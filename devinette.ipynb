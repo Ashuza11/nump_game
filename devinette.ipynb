{
 "cells": [
  {
   "cell_type": "code",
   "execution_count": 6,
   "metadata": {},
   "outputs": [],
   "source": [
    "import random \n",
    "\n",
    "# Table of Contents\n",
    "\"\"\"\n",
    "    1. Menu\n",
    "    2. Début algo\n",
    "    3. Algoritheme \n",
    "    4. Logiques du jeux\n",
    "    5. Fonction principal(main)\n",
    "    \n",
    "\"\"\"\n",
    "\n",
    "# Menu du jeux\n",
    "def Menu():\n",
    "    print(\"Super Jeux les Devinettes de chiffres\")\n",
    "   \n",
    "    print(\"\\nOptions Disponible: \")\n",
    "    print(\"1: Play\\n\")\n",
    "    print(\"2: Quitter\\n\")\n",
    "    return input(\"Votre Choix: \")"
   ]
  },
  {
   "cell_type": "code",
   "execution_count": 7,
   "metadata": {},
   "outputs": [
    {
     "name": "stdout",
     "output_type": "stream",
     "text": [
      "Le nombres genérés: [5, 0, 3]\n"
     ]
    }
   ],
   "source": [
    "# Début algo\n",
    "# Genéré un nombre aleatoire de 3 chiffres entre 0 et 9\n",
    "val_1 = list(range(0, 9))\n",
    "val_genere = random.sample(val_1, k=3)\n",
    "\n",
    "# Valeur entre par le joueur \n",
    "print(f\"Le nombres genérés: {val_genere}\")\n",
    "\n"
   ]
  },
  {
   "cell_type": "code",
   "execution_count": 8,
   "metadata": {},
   "outputs": [],
   "source": [
    "# Algo / compare les deux tableaux \n",
    "def algo_dev(tab_val_genere, val_entre):\n",
    "    exist = False\n",
    "    result = []\n",
    "    \n",
    "    for num in val_entre:\n",
    "        if num in val_genere:\n",
    "            exist = True\n",
    "            if val_entre.index(num) == val_genere.index(num):\n",
    "                result.append(\"Bingo!\")\n",
    "            else:\n",
    "                result.append(\"Vrais!\")\n",
    "    if exist == False:\n",
    "        result.append(\"Echec!\")\n",
    "          \n",
    "    return result\n"
   ]
  },
  {
   "cell_type": "code",
   "execution_count": 9,
   "metadata": {},
   "outputs": [],
   "source": [
    "# Logique du jeux \n",
    "def demande_continuer():\n",
    "    # Demander si l'utilisateur veux quitter avant de reafficher le menu\n",
    "    reponse = input(\"Voulez-vous jouer de nouveau ? (Oui ou Non)\\n\")\n",
    "    reponse1 = \"Oui\"\n",
    "    if reponse == reponse1.lower():\n",
    "        main() # Reprendre le jeux\n",
    "        print(\"\\n Ce Jeux vous est justieusement offert par M.Albin, cn.\")\n",
    "    else:\n",
    "        quit()"
   ]
  },
  {
   "cell_type": "code",
   "execution_count": 10,
   "metadata": {},
   "outputs": [
    {
     "name": "stdout",
     "output_type": "stream",
     "text": [
      "Super Jeux les Devinettes de chiffres\n",
      "\n",
      "Options Disponible: \n",
      "1: Play\n",
      "\n",
      "2: Quitter\n",
      "\n",
      "Votre Choix: 1\n",
      "Bienvenu !!!\n",
      "\n",
      "vous avez droit a 5 éssais\n",
      "\n",
      "Essais #1\n",
      "334\n",
      "Vrais! Vrais!\n",
      "\n",
      "Essais #2\n",
      "445\n",
      "Vrais!\n",
      "\n",
      "Essais #3\n",
      "445\n",
      "Vrais!\n",
      "\n",
      "Essais #4\n",
      "445\n",
      "Vrais!\n",
      "\n",
      "Essais #5\n",
      "445\n",
      "Vrais!\n",
      "Vous avez épuise vos chance\n",
      "La reponse était: 503\n",
      "Voulez-vous jouer de nouveau ? (Oui ou Non)\n",
      "oui\n",
      "Super Jeux les Devinettes de chiffres\n",
      "\n",
      "Options Disponible: \n",
      "1: Play\n",
      "\n",
      "2: Quitter\n",
      "\n",
      "Votre Choix: 2\n",
      "\n",
      " Ce Jeux vous est justieusement offert par M.Albin, cn.\n"
     ]
    }
   ],
   "source": [
    "# La fonction principale(main)\n",
    "\n",
    "def main():\n",
    "    # Variable de passage \n",
    "    continuer = True\n",
    "    nombre_essais = 5\n",
    "    essais = nombre_essais\n",
    "    i = 0\n",
    "    \n",
    "    # Afficher du menunombre_\n",
    "    choix = Menu()\n",
    "    # Traitement du choix de l'utilisatuer \n",
    "    if choix == \"1\":\n",
    "        \n",
    "        print(\"Bienvenu !!!\\n\")\n",
    "        print (f\"vous avez droit a {nombre_essais} éssais\")\n",
    "        # Loop principale pour jouer le jeux \n",
    "        while essais > 0:\n",
    "            i = i + 1\n",
    "            print(f\"\\nEssais #{i}\")\n",
    "\n",
    "            # Lire et convertir le input du joueur\n",
    "            num2 = input()\n",
    "            essais = essais - 1\n",
    "            val_entre = list(map(int, num2))\n",
    "            \n",
    "            \n",
    "            # Appel de l'algo et afficher le resultat\n",
    "            resultat = algo_dev(val_genere, val_entre)\n",
    "            print(\" \".join(sorted(resultat)))\n",
    "         \n",
    "            if resultat != ['Bingo', 'Bingo', 'Bingo'] and essais <= 0:\n",
    "                # Affiche reponse. (Utilisation de list conprehension por convertir [1, 3, 4] en \"123\")\n",
    "                rep = \"\".join(str(e) for e in val_genere)\n",
    "                    \n",
    "                print(f\"Vous avez épuise vos chance\\nLa reponse était: {rep}\")\n",
    "                continuer = demande_continuer()\n",
    "                      \n",
    "            if resultat == ['Bingo!','Bingo!','Bingo!']:\n",
    "                print(\"-------Bravo vous avez reussi----------\")\n",
    "                continuer = demande_continuer()\n",
    "        \n",
    "    elif choix == \"2\":\n",
    "        # On veux quiter\n",
    "        quit(\"\\nMerci d'avoir joué et aurevoir.\")\n",
    "    else:\n",
    "        print(\"Option Inconnue\")\n",
    "        \n",
    "if __name__ == \"__main__\":\n",
    "    main()        \n"
   ]
  },
  {
   "cell_type": "markdown",
   "metadata": {},
   "source": [
    "##### "
   ]
  }
 ],
 "metadata": {
  "kernelspec": {
   "display_name": "Python 3",
   "language": "python",
   "name": "python3"
  },
  "language_info": {
   "codemirror_mode": {
    "name": "ipython",
    "version": 3
   },
   "file_extension": ".py",
   "mimetype": "text/x-python",
   "name": "python",
   "nbconvert_exporter": "python",
   "pygments_lexer": "ipython3",
   "version": "3.8.5"
  }
 },
 "nbformat": 4,
 "nbformat_minor": 4
}
